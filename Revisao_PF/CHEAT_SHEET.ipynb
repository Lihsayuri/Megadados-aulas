{
 "cells": [
  {
   "cell_type": "markdown",
   "metadata": {},
   "source": [
    "# Comandos do MYSQL\n",
    "\n"
   ]
  },
  {
   "cell_type": "markdown",
   "metadata": {},
   "source": [
    "### Para inserir algo:"
   ]
  },
  {
   "cell_type": "code",
   "execution_count": null,
   "metadata": {},
   "outputs": [],
   "source": [
    "db('''\n",
    "INSERT INTO usuario (id_usuario, nome, sobrenome) VALUES\n",
    "    (1, 'Juca', 'Silva'), \n",
    "    (2, 'Mario', 'Ferreira'), \n",
    "    (3, 'Ana', 'Soares'), \n",
    "    (4, 'Antonio', 'Reis'), \n",
    "    (5, 'Paulo', 'Oliveira')\n",
    "''')"
   ]
  },
  {
   "cell_type": "markdown",
   "metadata": {},
   "source": [
    "Achar aquele que tem vários VALUES."
   ]
  },
  {
   "cell_type": "markdown",
   "metadata": {},
   "source": [
    "### Para iniciar uma transação: "
   ]
  },
  {
   "cell_type": "code",
   "execution_count": null,
   "metadata": {},
   "outputs": [],
   "source": [
    "db('START TRANSACTION')\n",
    "db('INSERT INTO usuario (id_usuario, nome, sobrenome) VALUES (8, \"Carlos\", \"Sainz\")')\n",
    "db('COMMIT')\n",
    "\n",
    "# Posso reverter a transação em uma outra transação\n",
    "\n",
    "db('START TRANSACTION')\n",
    "db('''\n",
    "SELECT id_usuario INTO @id_usuario \n",
    "    FROM usuario \n",
    "    WHERE nome = 'Barack' AND sobrenome = 'Trump' \n",
    "    ORDER BY id_usuario DESC LIMIT 1;\n",
    "''')\n",
    "db('SELECT @id_usuario')\n",
    "db('DELETE FROM usuario WHERE id_usuario=@id_usuario')\n",
    "db('COMMIT')"
   ]
  },
  {
   "cell_type": "markdown",
   "metadata": {},
   "source": [
    "### Para criar funções para transação seguir o padrão:\n",
    "\n"
   ]
  },
  {
   "cell_type": "code",
   "execution_count": null,
   "metadata": {},
   "outputs": [],
   "source": [
    "def deposito(connection, id_usuario, valor):\n",
    "    with connection.cursor() as cursor:\n",
    "        # Atualizei o saldo da pessoa depois do depósito\n",
    "        query1 = '''\n",
    "        UPDATE \n",
    "            usuario\n",
    "        SET\n",
    "            saldo = saldo + %s \n",
    "        WHERE\n",
    "            id_usuario = %s\n",
    "        '''\n",
    "        params1 = (valor, id_usuario)\n",
    "        cursor.execute(query1, params1)\n",
    "        \n",
    "        # Log da movimentação de conta corrente.\n",
    "        \n",
    "        query2 = '''\n",
    "        INSERT INTO movimentacao (id_usuario, valor) VALUES (%s, %s)\n",
    "        '''\n",
    "        params2 = (id_usuario, valor)\n",
    "        \n",
    "        cursor.execute(query2, params2)"
   ]
  },
  {
   "cell_type": "code",
   "execution_count": null,
   "metadata": {},
   "outputs": [],
   "source": [
    "def pega_id_usuario(connection, nome, sobrenome):\n",
    "    with connection.cursor() as cursor:\n",
    "        cursor.execute(\n",
    "            '''\n",
    "            SELECT id_usuario \n",
    "            FROM usuario \n",
    "            WHERE nome = %s AND sobrenome = %s''', (nome, sobrenome))\n",
    "\n",
    "        results = cursor.fetchall()\n",
    "        \n",
    "    if results is None:\n",
    "        raise KeyError(f'Usuario {nome} {sobrenome} não encontrado.')\n",
    "    \n",
    "    return results[0][0]\n",
    "\n",
    "\n",
    "# retorna último id inserido\n",
    "cursor.execute('SELECT LAST_INSERT_ID()')\n"
   ]
  },
  {
   "cell_type": "code",
   "execution_count": null,
   "metadata": {},
   "outputs": [],
   "source": [
    "def atualiza_emprestimo(connection, id_emprestimo, valor):\n",
    "    with connection.cursor() as cursor:\n",
    "        # Atualiza saldo do emprestimo.\n",
    "        query = '''\n",
    "        UPDATE \n",
    "            emprestimo\n",
    "        SET \n",
    "            valor_atual = valor_atual + %s\n",
    "        WHERE \n",
    "            id_emprestimo = %s\n",
    "        '''\n",
    "        params = (valor, id_emprestimo)\n",
    "        cursor.execute(query, params)\n",
    "\n",
    "        # Log na tabela de operações.\n",
    "        query = '''\n",
    "        INSERT INTO operacao (id_emprestimo, valor) VALUES (%s, %s)\n",
    "        '''\n",
    "        params = (id_emprestimo, valor)\n",
    "        cursor.execute(query, params)"
   ]
  },
  {
   "cell_type": "markdown",
   "metadata": {},
   "source": [
    "### Para testar funções de transação:\n",
    "    "
   ]
  },
  {
   "cell_type": "code",
   "execution_count": null,
   "metadata": {},
   "outputs": [],
   "source": [
    "dados = [\n",
    "    (\"Ana\", \"Soares\", \"Juca\", \"Silva\", 1000),\n",
    "    (\"Ana\", \"Soares\", \"Antonio\", \"Reis\", 2000),\n",
    "    (\"Paulo\", \"Oliveira\", \"Juca\", \"Silva\", 3000),\n",
    "]\n",
    "\n",
    "for nome_credor, sobrenome_credor, \\\n",
    "    nome_devedor, sobrenome_devedor, \\\n",
    "    valor in dados:\n",
    "    try:\n",
    "        start_transaction(connection)\n",
    "        id_credor = pega_id_usuario(\n",
    "            connection,\n",
    "            nome_credor,\n",
    "            sobrenome_credor,\n",
    "        )\n",
    "        id_devedor = pega_id_usuario(\n",
    "            connection,\n",
    "            nome_devedor,\n",
    "            sobrenome_devedor,\n",
    "        )\n",
    "        id_emprestimo = cria_emprestimo_(connection, id_credor, id_devedor)\n",
    "        saque(connection, id_credor, valor)\n",
    "        deposito(connection, id_devedor, valor)\n",
    "        atualiza_emprestimo(connection, id_emprestimo, valor)\n",
    "        commit(connection)\n",
    "    except Exception as e:\n",
    "        print(e)\n",
    "        rollback(connection)"
   ]
  },
  {
   "cell_type": "markdown",
   "metadata": {},
   "source": [
    "### Para criar uma procedure:"
   ]
  },
  {
   "cell_type": "markdown",
   "metadata": {},
   "source": [
    "``` mysql\n",
    "\n",
    "USE emprestimos;\n",
    "\n",
    "DROP PROCEDURE IF EXISTS adiciona_usuario;\n",
    "\n",
    "DELIMITER //\n",
    "CREATE PROCEDURE adiciona_usuario(IN novo_nome VARCHAR(80), IN novo_sobrenome VARCHAR(80))\n",
    "BEGIN\n",
    "    INSERT INTO usuario (nome, sobrenome) VALUES (novo_nome, novo_sobrenome);\n",
    "END//\n",
    "DELIMITER ;\n",
    "\n",
    "```"
   ]
  },
  {
   "cell_type": "markdown",
   "metadata": {},
   "source": [
    "``` mysql\n",
    "\n",
    "USE emprestimos;\n",
    "\n",
    "DROP PROCEDURE IF EXISTS cobra_taxa;\n",
    "\n",
    "DELIMITER //\n",
    "CREATE PROCEDURE cobra_taxa(IN taxa DECIMAL(30,2), IN id_usuario_procurado INT)\n",
    "BEGIN\n",
    "    DECLARE taxa_cobrada DECIMAL(30,2);\n",
    "    SELECT IF(saldo(id_usuario_procurado)>0.0, taxa, 0.0) INTO taxa_cobrada;\n",
    "    UPDATE usuario SET saldo = saldo - taxa WHERE id_usuario = id_usuario_procurado;\n",
    "END//\n",
    "DELIMITER ;\n",
    "\n",
    "```"
   ]
  },
  {
   "cell_type": "markdown",
   "metadata": {},
   "source": [
    "Note o uso destes comandos DELIMITER. Coisas de MySQL: ele não entende que os ponto-e-virgula internos ao procedimento não sinalizam o final do comando CREATE PROCEDURE..."
   ]
  },
  {
   "cell_type": "markdown",
   "metadata": {},
   "source": [
    "### Como chamar e usar procedures: CALL.\n",
    "\n",
    "Observação: prefira trabalhar com isso no Workbench, é melhor. Já teve bug uma vez."
   ]
  },
  {
   "cell_type": "code",
   "execution_count": null,
   "metadata": {},
   "outputs": [],
   "source": [
    "db('START TRANSACTION')\n",
    "try:\n",
    "    db(\"CALL adiciona_usuario('Max', 'Verstappen');\")\n",
    "    db(\"CALL adiciona_usuario('Lando', 'Norris');\")\n",
    "    db(\"CALL adiciona_usuario('Charles', 'Leclerc');\")\n",
    "except Exception as e:\n",
    "    print(e)\n",
    "    db('ROLLBACK');"
   ]
  },
  {
   "cell_type": "markdown",
   "metadata": {},
   "source": [
    "- Para criar uma function:"
   ]
  },
  {
   "cell_type": "markdown",
   "metadata": {},
   "source": [
    "``` mysql\n",
    "USE emprestimos;\n",
    "\n",
    "DROP FUNCTION IF EXISTS saldo;\n",
    "\n",
    "DELIMITER //\n",
    "CREATE FUNCTION saldo(id INT) RETURNS DECIMAL(30, 2) READS SQL DATA\n",
    "BEGIN\n",
    "    DECLARE saldo_procurado DECIMAL(30, 2);\n",
    "    SELECT IFNULL(saldo, 0.0) INTO saldo_procurado FROM usuario WHERE id_usuario = id;\n",
    "    RETURN saldo_procurado;\n",
    "END//\n",
    "DELIMITER ;\n",
    "\n",
    "COMMIT;\n",
    "```\n"
   ]
  },
  {
   "cell_type": "markdown",
   "metadata": {},
   "source": [
    "``` mysql\n",
    "\n",
    "USE emprestimos;\n",
    "\n",
    "DROP FUNCTION IF EXISTS total_saldo;\n",
    "\n",
    "DELIMITER //\n",
    "CREATE FUNCTION total_saldo() RETURNS DECIMAL(30, 2) READS SQL DATA\n",
    "BEGIN\n",
    "    DECLARE soma_total DECIMAL(30, 2);\n",
    "    SELECT \n",
    "        SUM(saldo) INTO soma_total \n",
    "    FROM usuario;\n",
    "    RETURN soma_total;\n",
    "END//\n",
    "DELIMITER ;\n",
    "\n",
    "```"
   ]
  },
  {
   "cell_type": "markdown",
   "metadata": {},
   "source": [
    "### Para usar uma função e chamá-la:"
   ]
  },
  {
   "cell_type": "code",
   "execution_count": null,
   "metadata": {},
   "outputs": [],
   "source": [
    "db(\"SELECT saldo(1)\")"
   ]
  },
  {
   "cell_type": "markdown",
   "metadata": {},
   "source": [
    "OBS2: Prefira rodar no MySql Workbench os testes. Caso esteja \"hanging\", simplesmente feche a conexão do notebook e espere rodar tudo no Workbench. Depois abra de novo o jupyter e siga a vida :)"
   ]
  },
  {
   "cell_type": "markdown",
   "metadata": {},
   "source": [
    "### Funções do MySQL:"
   ]
  },
  {
   "cell_type": "markdown",
   "metadata": {},
   "source": [
    "https://dev.mysql.com/doc/refman/8.0/en/flow-control-functions.html#function_if\n",
    "\n",
    "- IF:"
   ]
  },
  {
   "cell_type": "markdown",
   "metadata": {},
   "source": [
    "```mysql\n",
    "mysql> SELECT IF(1>2,2,3);\n",
    "        -> 3\n",
    "mysql> SELECT IF(1<2,'yes','no');\n",
    "        -> 'yes'\n",
    "mysql> SELECT IF(STRCMP('test','test1'),'no','yes');\n",
    "        -> 'no'\n",
    "```"
   ]
  },
  {
   "cell_type": "markdown",
   "metadata": {},
   "source": [
    "- IFNULL:\n"
   ]
  },
  {
   "cell_type": "markdown",
   "metadata": {},
   "source": [
    "``` mysql\n",
    "\n",
    "mysql> SELECT IFNULL(1,0);\n",
    "        -> 1\n",
    "mysql> SELECT IFNULL(NULL,10);\n",
    "        -> 10\n",
    "mysql> SELECT IFNULL(1/0,10);\n",
    "        -> 10\n",
    "mysql> SELECT IFNULL(1/0,'yes');\n",
    "        -> 'yes'\n",
    "```"
   ]
  },
  {
   "cell_type": "markdown",
   "metadata": {},
   "source": [
    "### Para criar um trigger:"
   ]
  },
  {
   "cell_type": "markdown",
   "metadata": {},
   "source": [
    "Trigger simples que toda vez que tenho uma movimentação atualiza o saldo do usuário. Ou seja, posta sempre o conteúdo na movimentação:\n",
    "\n",
    "``` mysql\n",
    "\n",
    "USE emprestimos;\n",
    "\n",
    "DROP TRIGGER IF EXISTS trig_movimentacao;\n",
    "\n",
    "DELIMITER //\n",
    "CREATE TRIGGER trig_movimentacao \n",
    "BEFORE INSERT ON movimentacao\n",
    "FOR EACH ROW\n",
    "BEGIN\n",
    "    UPDATE usuario \n",
    "        SET saldo = saldo + NEW.valor \n",
    "        WHERE id_usuario = NEW.id_usuario;\n",
    "END//\n",
    "\n",
    "DELIMITER ;\n",
    "\n",
    "```\n",
    "\n",
    "OBS: Se for DELETE, precisa usar o .OLD"
   ]
  },
  {
   "cell_type": "markdown",
   "metadata": {},
   "source": [
    "Nesse contexto a operação é basicamente: já existe um empréstimo, vou aumentar mais. Ou seja, estou criando uma operação que vai agir atualizando o empréstimo que já existe e criando movimentações. E como a movimentação já tem o trigger anterior, também atualiza o saldo do usuário.\n",
    "\n",
    "\n",
    "``` mysql\n",
    "\n",
    "USE emprestimos;\n",
    "\n",
    "DROP TRIGGER IF EXISTS trig_operacao;\n",
    "\n",
    "DELIMITER //\n",
    "CREATE TRIGGER trig_operacao\n",
    "BEFORE INSERT ON operacao\n",
    "FOR EACH ROW\n",
    "BEGIN\n",
    "\tUPDATE emprestimo \n",
    "\t\tSET valor_atual = valor_atual + NEW.valor # valor da operacao - aumentando a dívida. Precisamos inserir mov \n",
    "        WHERE id_emprestimo = NEW.id_emprestimo;\n",
    "\tSELECT id_credor INTO @id_credor\n",
    "\t\tFROM emprestimo \n",
    "\t\tWHERE id_emprestimo = NEW.id_emprestimo;\n",
    "\tSELECT id_devedor INTO @id_devedor\n",
    "\t\tFROM emprestimo \n",
    "\t\tWHERE id_emprestimo = NEW.id_emprestimo;\n",
    "\tINSERT INTO movimentacao (id_usuario, valor) VALUES (@id_credor, -NEW.valor);\n",
    "\tINSERT INTO movimentacao (id_usuario, valor) VALUES (@id_devedor, NEW.valor);\n",
    "END //\n",
    "\n",
    "DELIMITER ;\n",
    "\n",
    "```\n",
    "\n",
    "\n",
    "### Para testar o Trigger:\n",
    "\n",
    "```mysql\n",
    "USE emprestimos;\n",
    "\n",
    "SELECT * FROM usuario;\n",
    "SELECT * FROM emprestimo;\n",
    "SELECT * FROM operacao;\n",
    "\n",
    "START TRANSACTION;\n",
    "\n",
    "INSERT INTO movimentacao (id_usuario, valor) VALUES(1, 50000);\n",
    "\n",
    "INSERT INTO emprestimo (id_credor, id_devedor) VALUES (1, 2);\n",
    "INSERT INTO operacao (id_emprestimo, valor) VALUES (LAST_INSERT_ID(), 2000);\n",
    "\n",
    "SELECT * FROM usuario;\n",
    "SELECT * FROM emprestimo;\n",
    "SELECT * FROM operacao;\n",
    "\n",
    "ROLLBACK;\n",
    "\n",
    "SELECT * FROM usuario;\n",
    "SELECT * FROM emprestimo;\n",
    "SELECT * FROM operacao;\n",
    "\n",
    "```"
   ]
  },
  {
   "cell_type": "markdown",
   "metadata": {},
   "source": [
    "### Para adicionar uma constraint de verificação de valor:"
   ]
  },
  {
   "cell_type": "markdown",
   "metadata": {},
   "source": [
    "CONSTRAINT c_saldo CHECK (saldo >= 0.0)\n",
    "\n",
    "``` mysql\n",
    "\n",
    "\n",
    "CREATE TABLE usuario (\n",
    "    id_usuario INT NOT NULL AUTO_INCREMENT,\n",
    "    nome VARCHAR(80) NOT NULL,\n",
    "    sobrenome VARCHAR(80) NOT NULL,\n",
    "    saldo DECIMAL(30 , 2 ) NOT NULL DEFAULT 0.0,\n",
    "    PRIMARY KEY (id_usuario),\n",
    "    CONSTRAINT c_saldo CHECK (saldo >= 0.0)\n",
    ");\n",
    "\n",
    "CREATE TABLE emprestimo (\n",
    "    id_emprestimo INT NOT NULL AUTO_INCREMENT,\n",
    "    id_credor INT NOT NULL,\n",
    "    id_devedor INT NOT NULL,\n",
    "    valor_atual DECIMAL(30 , 2) NOT NULL DEFAULT 0.0,\n",
    "    data_inicio DATETIME NOT NULL DEFAULT CURRENT_TIMESTAMP,\n",
    "    data_modificação DATETIME NOT NULL DEFAULT CURRENT_TIMESTAMP ON UPDATE CURRENT_TIMESTAMP,\n",
    "    PRIMARY KEY (id_emprestimo),\n",
    "    CONSTRAINT fk_credor FOREIGN KEY (id_credor)\n",
    "        REFERENCES usuario (id_usuario),\n",
    "    CONSTRAINT fk_devedor FOREIGN KEY (id_devedor)\n",
    "        REFERENCES usuario (id_usuario),\n",
    "    CONSTRAINT c_valor CHECK (valor_atual >= 0.0)\n",
    ");\n",
    "\n",
    "```"
   ]
  },
  {
   "cell_type": "markdown",
   "metadata": {},
   "source": [
    "### Para criar uma VIEW:\n",
    "\n",
    "Lista nome e sobrenome de usuários sem revelar saldos: \n",
    "```mysql\n",
    "USE emprestimos;\n",
    "\n",
    "CREATE VIEW nomes AS \n",
    "    SELECT DISTINCT nome, sobrenome FROM usuario;\n",
    "```\n",
    "\n",
    "Porque usar views? Assim como no caso de stored procedures, podemos configurar permissões de acesso diferentes para esta view. Suponha que um vendedor deva ter acesso aos nomes dos clientes, mas não aos seus saldos (por razões de confidencialidade). Podemos conceder ao vendedor acesso apenas à essa view. Poderíamos ter resolvido o problema também com uma stored procedure: em SQL as coisas costumam ter várias soluções possíveis..."
   ]
  },
  {
   "cell_type": "markdown",
   "metadata": {},
   "source": [
    "```mySQL\n",
    "\n",
    "USE emprestimos\n",
    "\n",
    "CREATE VIEW devedor AS\n",
    "    SELECT \n",
    "        id_usuario, SUM(IFNULL(valor_atual, 0.0)) as total\n",
    "    FROM \n",
    "        usuario\n",
    "        LEFT OUTER JOIN emprestimo ON usuario.id_usuario = emprestimo.id_devedor\n",
    "    GROUP BY\n",
    "        id_usuario\n",
    "```\n",
    "\n",
    "```mySQL\n",
    "\n",
    "USE emprestimos\n",
    "\n",
    "CREATE VIEW valor_liquido AS\n",
    "    SELECT \n",
    "        id_usuario, nome, sobrenome, saldo + credor.total - devedor.total as valor\n",
    "    FROM \n",
    "        usuario\n",
    "        INNER JOIN credor USING (id_usuario)\n",
    "        INNER JOIN devedor USING (id_usuario)\n",
    "```"
   ]
  },
  {
   "cell_type": "markdown",
   "metadata": {},
   "source": [
    "```mySQL\n",
    "\n",
    "USE emprestimos\n",
    "\n",
    "CREATE VIEW valor_liquido AS\n",
    "    SELECT \n",
    "        id_usuario, nome, sobrenome, saldo + credor.total - devedor.total as valor\n",
    "    FROM \n",
    "        usuario\n",
    "        INNER JOIN credor USING (id_usuario)\n",
    "        INNER JOIN devedor USING (id_usuario)\n",
    "```"
   ]
  },
  {
   "cell_type": "code",
   "execution_count": null,
   "metadata": {},
   "outputs": [],
   "source": []
  }
 ],
 "metadata": {
  "kernelspec": {
   "display_name": "Python 3",
   "language": "python",
   "name": "python3"
  },
  "language_info": {
   "codemirror_mode": {
    "name": "ipython",
    "version": 3
   },
   "file_extension": ".py",
   "mimetype": "text/x-python",
   "name": "python",
   "nbconvert_exporter": "python",
   "pygments_lexer": "ipython3",
   "version": "3.7.6"
  }
 },
 "nbformat": 4,
 "nbformat_minor": 4
}
